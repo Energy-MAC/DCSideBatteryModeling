{
 "cells": [
  {
   "cell_type": "code",
   "execution_count": 1,
   "metadata": {},
   "outputs": [
    {
     "name": "stderr",
     "output_type": "stream",
     "text": [
      "\u001b[32m\u001b[1m Activating\u001b[22m\u001b[39m environment at `~/Dropbox/EMAC/DCSideBatteryModeling/Project.toml`\n"
     ]
    }
   ],
   "source": [
    "] activate"
   ]
  },
  {
   "cell_type": "code",
   "execution_count": 2,
   "metadata": {},
   "outputs": [
    {
     "name": "stderr",
     "output_type": "stream",
     "text": [
      "┌ Info: Precompiling Plots [91a5bcdd-55d7-5caf-9e0b-520d859cae80]\n",
      "└ @ Base loading.jl:1260\n",
      "┌ Info: Precompiling PowerSystems [bcd98974-b02a-5e2f-9ee0-a103f5c450dd]\n",
      "└ @ Base loading.jl:1260\n"
     ]
    }
   ],
   "source": [
    "using LinearAlgebra\n",
    "\n",
    "using OrdinaryDiffEq #Gets the solvers\n",
    "using Plots\n",
    "using PowerSystems\n",
    "using DelimitedFiles\n",
    "\n",
    "include(joinpath(pwd(), \"DCSideBatteryModeling\", \"DCSideBatteryModeling.jl\"))"
   ]
  },
  {
   "cell_type": "code",
   "execution_count": 3,
   "metadata": {},
   "outputs": [
    {
     "name": "stderr",
     "output_type": "stream",
     "text": [
      "┌ Info: Precompiling ORCA [47be7bcc-f1a6-5447-8b36-7eeeff7534fd]\n",
      "└ @ Base loading.jl:1260\n",
      "┌ Warning: The call to compilecache failed to create a usable precompiled cache file for ORCA [47be7bcc-f1a6-5447-8b36-7eeeff7534fd]\n",
      "│   exception = ErrorException(\"Required dependency PlotlyBase [a03496cd-edff-5a9b-9e67-9cda94a718b5] failed to load from a cache file.\")\n",
      "└ @ Base loading.jl:1041\n"
     ]
    },
    {
     "data": {
      "text/plain": [
       "Plots.PlotlyBackend()"
      ]
     },
     "execution_count": 3,
     "metadata": {},
     "output_type": "execute_result"
    }
   ],
   "source": [
    "plotly()"
   ]
  },
  {
   "cell_type": "code",
   "execution_count": null,
   "metadata": {},
   "outputs": [
    {
     "name": "stderr",
     "output_type": "stream",
     "text": [
      "[8383:0809/124158.009308:ERROR:buffer_manager.cc(488)] [.DisplayCompositor]GL ERROR :GL_INVALID_OPERATION : glBufferData: <- error from previous GL command\n",
      "┌ Info: The PSS(R)E parser currently supports buses, loads, shunts, generators, branches, transformers, and dc lines\n",
      "└ @ PowerSystems /home/ciaran/.julia/packages/PowerSystems/5TSyV/src/parsers/pm_io/common.jl:26\n",
      "┌ Info: Constructing System from Power Models\n",
      "│   data[\"name\"] = omib\n",
      "│   data[\"source_type\"] = pti\n",
      "└ @ PowerSystems /home/ciaran/.julia/packages/PowerSystems/5TSyV/src/parsers/power_models_data.jl:39\n",
      "┌ Info: Created InMemoryTimeSeriesStorage\n",
      "└ @ InfrastructureSystems /home/ciaran/.julia/packages/InfrastructureSystems/uXGZ2/src/in_memory_time_series_storage.jl:24\n",
      "┌ Info: Reading bus data\n",
      "└ @ PowerSystems /home/ciaran/.julia/packages/PowerSystems/5TSyV/src/parsers/power_models_data.jl:140\n"
     ]
    }
   ],
   "source": [
    "include(joinpath(pwd(), \"data\",\"make_data.jl\"))"
   ]
  },
  {
   "cell_type": "code",
   "execution_count": null,
   "metadata": {},
   "outputs": [],
   "source": [
    "omib_sys = System(joinpath(pwd(), \"data\", \"OMIB_inverterDCside.json\"))"
   ]
  },
  {
   "cell_type": "markdown",
   "metadata": {},
   "source": [
    "## Instantiate 0th-order ODE Model"
   ]
  },
  {
   "cell_type": "code",
   "execution_count": null,
   "metadata": {},
   "outputs": [],
   "source": [
    "parameter_mapping = instantiate_parameters(omib_sys)\n",
    "M= instantiate_0th_order_model(omib_sys)"
   ]
  },
  {
   "cell_type": "code",
   "execution_count": null,
   "metadata": {},
   "outputs": [],
   "source": [
    "_parameter_values = [x.second for x in parameter_mapping] # Extract list of parameter values"
   ]
  },
  {
   "cell_type": "markdown",
   "metadata": {},
   "source": [
    "## Build Jacobian Function"
   ]
  },
  {
   "cell_type": "code",
   "execution_count": null,
   "metadata": {},
   "outputs": [],
   "source": [
    "jac_exp = get_0th_order_jacobian_expression()\n",
    "_jac = eval(jac_exp)"
   ]
  },
  {
   "cell_type": "code",
   "execution_count": null,
   "metadata": {},
   "outputs": [],
   "source": [
    "jac_eval = (out, u0, params) -> _jac(out, u0, params)\n",
    "param_eval = (out, params) -> _jac(out, M.u0, params)\n",
    "n = length(M.u0)\n",
    "J = zeros(n, n);"
   ]
  },
  {
   "cell_type": "code",
   "execution_count": null,
   "metadata": {},
   "outputs": [],
   "source": [
    "M(_parameter_values)\n",
    "param_eval(J, _parameter_values)\n",
    "jac = ModelJacobian(jac_eval, J)"
   ]
  },
  {
   "cell_type": "code",
   "execution_count": null,
   "metadata": {},
   "outputs": [],
   "source": [
    "parameter_mapping[45]"
   ]
  },
  {
   "cell_type": "markdown",
   "metadata": {},
   "source": [
    "## Identfying Set of Small-Signal Stable Gains"
   ]
  },
  {
   "cell_type": "code",
   "execution_count": null,
   "metadata": {},
   "outputs": [],
   "source": [
    "cap_range = 2000:500:7000 # Looping throught different DC-link capacitor sizing\n",
    "param_range = 0.5:0.5:10.5 # Looping throughc control  \n",
    "_parameter_values[45]=0 # Setting K_pred=0\n",
    "max_eig = -3 # Design specification - Maximum real part of eigenvalues\n",
    "min_damping = 0.35 # Design specification - Minimum damping\n",
    "for cap_size in cap_range\n",
    "    _parameter_values[39]=cap_size*1e-6/_parameter_values[2] # Assigning DC-link capacitor size\n",
    "    stable_gains = reshape([],0,4) # Initializing array of stable gains\n",
    "    for kpv in param_range\n",
    "        _parameter_values[41]=kpv # K_p^v\n",
    "        for kiv in param_range  \n",
    "            _parameter_values[42]=kiv #K_i^v\n",
    "            for kpi in param_range\n",
    "                _parameter_values[43]=kpi #K_p^i\n",
    "                for kii in param_range\n",
    "                    _parameter_values[44]=kii #K_i^i\n",
    "                    M(_parameter_values) # Re-calculating operating point \n",
    "                    param_eval(J, _parameter_values) \n",
    "                    jac = ModelJacobian(jac_eval, J)\n",
    "                    eig_vals = eigvals(jac(M)) # Calculating eigenvalues of linearized system\n",
    "                    damp = [-1*real(λ) / sqrt(real(λ)^2 + imag(λ)^2) for λ in eig_vals] # Calcualting damping ratios\n",
    "                    if maximum(real(eig_vals)) < max_eig && minimum(damp)>min_damping # Checking to see if gains satisfy design criteria\n",
    "                        stable_gains = [stable_gains; [kpv kiv kpi kii ]] # Concatenating stable gains\n",
    "                    end\n",
    "                end \n",
    "\n",
    "            end\n",
    "\n",
    "        end\n",
    "\n",
    "    end\n",
    "    fileName=string(\"results/stable_gains/capSize_\", cap_size, \"uF.csv\")\n",
    "    writedlm( fileName,  stable_gains, ',') # Writing array of gains that satisfy design criteria \n",
    "end"
   ]
  },
  {
   "cell_type": "markdown",
   "metadata": {},
   "source": [
    "## Searching Over Set of Stable Gains for Large Signal Tuning"
   ]
  },
  {
   "cell_type": "code",
   "execution_count": null,
   "metadata": {},
   "outputs": [],
   "source": [
    "cap_range = 2000:500:7000 # Looping throught different DC-link capacitor sizing\n",
    "_parameter_values[45]=0 #K_pred\n",
    "for cap_size in cap_range\n",
    "    _parameter_values[39]=cap_size*1e-6/_parameter_values[2] # Assigning DC-link capacitor size\n",
    "    fileName=string(\"results/stable_gains/capSize_\", cap_size, \"uF.csv\")\n",
    "    gains = readdlm(fileName, ',', Float64) # Loading array of Stable Gains\n",
    "#     fileName=string(\"results/optimal_gains/capSize_\", cap_size, \"uF.csv\")\n",
    "#     optIndex = readdlm(fileName, ',', Float64)\n",
    "    optIndex = [1, 1e6] # Initializing optIndex (index 1) and associated l_2 norm values (index 2)\n",
    "    for i in 1:1:1000\n",
    "        index = rand(1:size(gains,1))\n",
    "        _parameter_values[41]=gains[index,1] #K_p^v\n",
    "        _parameter_values[42]=gains[index,2] #K_i^v\n",
    "        _parameter_values[43]=gains[index,3] #K_p^i\n",
    "        _parameter_values[44]=gains[index,4] #K_i^i\n",
    "        M(_parameter_values) #Re-calcualte operating point\n",
    "\n",
    "        disturbance=deepcopy(_parameter_values)\n",
    "        disturbance[10]=0.7 # Changing active power load from 0.2 to 0.7 p.u.\n",
    "\n",
    "        sim = instantiate_0th_order_dae(disturbance, M; tspan = (0.0, 0.02))\n",
    "        sol = solve(sim, Rodas5(), saveat = 0.001);\n",
    "        solArray = Array(sol)\n",
    "        global runError=norm(_parameter_values[40].-solArray[13,:]) # Calculate l2 norm error\n",
    "        if runError < optIndex[2] # If l_2 norm error is less that previously stored\n",
    "            optIndex[1]=index  # Store current array index as optimal index\n",
    "            optIndex[2]=runError\n",
    "            fileName=string(\"results/optimal_gains/capSize_\", cap_size, \"uF.csv\")\n",
    "            writedlm(fileName,  optIndex, ',') #Write csv with index and l_2 norm error\n",
    "        end\n",
    "    end\n",
    "end"
   ]
  },
  {
   "cell_type": "code",
   "execution_count": null,
   "metadata": {},
   "outputs": [],
   "source": []
  },
  {
   "cell_type": "code",
   "execution_count": null,
   "metadata": {},
   "outputs": [],
   "source": []
  }
 ],
 "metadata": {
  "kernelspec": {
   "display_name": "Julia 1.4.1",
   "language": "julia",
   "name": "julia-1.4"
  },
  "language_info": {
   "file_extension": ".jl",
   "mimetype": "application/julia",
   "name": "julia",
   "version": "1.4.1"
  }
 },
 "nbformat": 4,
 "nbformat_minor": 4
}
