{
 "cells": [
  {
   "cell_type": "code",
   "execution_count": 1,
   "metadata": {},
   "outputs": [
    {
     "name": "stderr",
     "output_type": "stream",
     "text": [
      "\u001b[32m\u001b[1m Activating\u001b[22m\u001b[39m environment at `~/cache/DCSideBatteryModeling/Project.toml`\n"
     ]
    }
   ],
   "source": [
    "] activate"
   ]
  },
  {
   "cell_type": "code",
   "execution_count": 2,
   "metadata": {},
   "outputs": [],
   "source": [
    "using LinearAlgebra\n",
    "\n",
    "using OrdinaryDiffEq #Gets the solvers\n",
    "using Plots\n",
    "using PowerSystems\n",
    "using DelimitedFiles\n",
    "\n",
    "include(joinpath(pwd(), \"DCSideBatteryModeling\", \"DCSideBatteryModeling.jl\"))"
   ]
  },
  {
   "cell_type": "code",
   "execution_count": 3,
   "metadata": {},
   "outputs": [
    {
     "data": {
      "text/plain": [
       "Plots.PlotlyBackend()"
      ]
     },
     "execution_count": 3,
     "metadata": {},
     "output_type": "execute_result"
    }
   ],
   "source": [
    "plotly()"
   ]
  },
  {
   "cell_type": "code",
   "execution_count": 4,
   "metadata": {},
   "outputs": [
    {
     "name": "stderr",
     "output_type": "stream",
     "text": [
      "┌ Info: The PSS(R)E parser currently supports buses, loads, shunts, generators, branches, transformers, and dc lines\n",
      "└ @ PowerSystems /Users/jdlara/.julia/packages/PowerSystems/5TSyV/src/parsers/pm_io/common.jl:26\n",
      "┌ Info: Constructing System from Power Models\n",
      "│   data[\"name\"] = omib\n",
      "│   data[\"source_type\"] = pti\n",
      "└ @ PowerSystems /Users/jdlara/.julia/packages/PowerSystems/5TSyV/src/parsers/power_models_data.jl:39\n",
      "┌ Info: Created InMemoryTimeSeriesStorage\n",
      "└ @ InfrastructureSystems /Users/jdlara/.julia/packages/InfrastructureSystems/uXGZ2/src/in_memory_time_series_storage.jl:24\n",
      "┌ Info: Reading bus data\n",
      "└ @ PowerSystems /Users/jdlara/.julia/packages/PowerSystems/5TSyV/src/parsers/power_models_data.jl:140\n",
      "┌ Info: Reading generator data\n",
      "└ @ PowerSystems /Users/jdlara/.julia/packages/PowerSystems/5TSyV/src/parsers/power_models_data.jl:418\n",
      "┌ Info: Reading branch data\n",
      "└ @ PowerSystems /Users/jdlara/.julia/packages/PowerSystems/5TSyV/src/parsers/power_models_data.jl:575\n",
      "┌ Info: Reading branch data\n",
      "└ @ PowerSystems /Users/jdlara/.julia/packages/PowerSystems/5TSyV/src/parsers/power_models_data.jl:638\n",
      "┌ Info: Reading DC Line data\n",
      "└ @ PowerSystems /Users/jdlara/.julia/packages/PowerSystems/5TSyV/src/parsers/power_models_data.jl:609\n",
      "┌ Info: Unit System changed to SYSTEM_BASE\n",
      "└ @ PowerSystems /Users/jdlara/.julia/packages/PowerSystems/5TSyV/src/base.jl:352\n",
      "┌ Info: The System has no islands\n",
      "└ @ PowerSystems /Users/jdlara/.julia/packages/PowerSystems/5TSyV/src/utils/network_calculations/ybus_calculations.jl:139\n",
      "┌ Info: PowerFlow solve converged, the results have been stored in the system\n",
      "└ @ PowerSystems /Users/jdlara/.julia/packages/PowerSystems/5TSyV/src/utils/power_flow/power_flow.jl:307\n",
      "┌ Info: Unit System changed to SYSTEM_BASE\n",
      "└ @ PowerSystems /Users/jdlara/.julia/packages/PowerSystems/5TSyV/src/base.jl:358\n",
      "┌ Info: Serialized time series data to /Users/jdlara/cache/DCSideBatteryModeling/data/OMIB_inverterDCside_time_series_storage.h5.\n",
      "└ @ InfrastructureSystems /Users/jdlara/.julia/packages/InfrastructureSystems/uXGZ2/src/time_series_storage.jl:53\n",
      "┌ Info: Serialized System to /Users/jdlara/cache/DCSideBatteryModeling/data/OMIB_inverterDCside.json\n",
      "└ @ InfrastructureSystems /Users/jdlara/.julia/packages/InfrastructureSystems/uXGZ2/src/serialization.jl:8\n"
     ]
    }
   ],
   "source": [
    "include(joinpath(pwd(), \"data\",\"make_data.jl\"))"
   ]
  },
  {
   "cell_type": "code",
   "execution_count": 5,
   "metadata": {},
   "outputs": [
    {
     "name": "stderr",
     "output_type": "stream",
     "text": [
      "┌ Info: Created InMemoryTimeSeriesStorage\n",
      "└ @ InfrastructureSystems /Users/jdlara/.julia/packages/InfrastructureSystems/uXGZ2/src/in_memory_time_series_storage.jl:24\n",
      "┌ Warning: There are no Generator Components in the System\n",
      "└ @ PowerSystems /Users/jdlara/.julia/packages/PowerSystems/5TSyV/src/utils/IO/system_checks.jl:56\n",
      "┌ Warning: System peak load (50.0) exceeds total capacity capability (0).\n",
      "└ @ PowerSystems /Users/jdlara/.julia/packages/PowerSystems/5TSyV/src/utils/IO/system_checks.jl:72\n"
     ]
    },
    {
     "data": {
      "text/html": [
       "<h1>System</h1>\n",
       "<p><b>Base Power</b>: 100.0</p>\n",
       "<h2>Components</h2>\n",
       "<p><b>Num components</b>: 8</p>\n",
       "<table class=\"data-frame\"><thead><tr><th></th><th>ConcreteType</th><th>SuperTypes</th></tr><tr><th></th><th>String</th><th>String</th></tr></thead><tbody><p>7 rows × 3 columns (omitted printing of 1 columns)</p><tr><th>1</th><td>Area</td><td>AggregationTopology &lt;: Topology &lt;: Component &lt;: PowerSystemType &lt;: InfrastructureSystemsType &lt;: Any</td></tr><tr><th>2</th><td>Bus</td><td>Topology &lt;: Component &lt;: PowerSystemType &lt;: InfrastructureSystemsType &lt;: Any</td></tr><tr><th>3</th><td>DynamicInverter{AverageConverter,OuterControl{VirtualInertia,ReactivePowerDroop},CurrentControl,FixedDCSource,KauraPLL,LCLFilter}</td><td>DynamicInjection &lt;: Device &lt;: Component &lt;: PowerSystemType &lt;: InfrastructureSystemsType &lt;: Any</td></tr><tr><th>4</th><td>GenericBattery</td><td>Storage &lt;: StaticInjection &lt;: Device &lt;: Component &lt;: PowerSystemType &lt;: InfrastructureSystemsType &lt;: Any</td></tr><tr><th>5</th><td>Line</td><td>ACBranch &lt;: Branch &lt;: Device &lt;: Component &lt;: PowerSystemType &lt;: InfrastructureSystemsType &lt;: Any</td></tr><tr><th>6</th><td>LoadZone</td><td>AggregationTopology &lt;: Topology &lt;: Component &lt;: PowerSystemType &lt;: InfrastructureSystemsType &lt;: Any</td></tr><tr><th>7</th><td>PowerLoad</td><td>StaticLoad &lt;: ElectricLoad &lt;: StaticInjection &lt;: Device &lt;: Component &lt;: PowerSystemType &lt;: InfrastructureSystemsType &lt;: Any</td></tr></tbody></table>\n",
       "\n",
       "<h2>Forecasts</h2>\n",
       "<p><b>Resolution</b>: 0 seconds</p>\n",
       "<p><b>Horizon</b>: 0</p>\n",
       "<p><b>Initial Times</b>: </p>\n",
       "<p><b>Interval</b>: 0 seconds</p>\n",
       "<p><b>Components with Forecasts</b>: 0</p>\n",
       "<p><b>Total Forecasts</b>: 0</p>\n"
      ],
      "text/plain": [
       "System\n",
       "======\n",
       "Base Power: 100.0\n",
       "\n",
       "Components\n",
       "==========\n",
       "Num components: 8\n",
       "\n",
       "7×3 DataFrame. Omitted printing of 3 columns\n",
       "│ Row │ │     │ ├─────┼\n",
       "│ 1   │ │ 2   │ │ 3   │ │ 4   │ │ 5   │ │ 6   │ │ 7   │ \n",
       "\n",
       "Forecasts\n",
       "=========\n",
       "Resolution: 0 seconds\n",
       "Horizon: 0\n",
       "Initial Times: \n",
       "Interval: 0 seconds\n",
       "Components with Forecasts: 0\n",
       "Total Forecasts: 0\n"
      ]
     },
     "execution_count": 5,
     "metadata": {},
     "output_type": "execute_result"
    }
   ],
   "source": [
    "omib_sys = System(joinpath(pwd(), \"data\", \"OMIB_inverterDCside.json\"))"
   ]
  },
  {
   "cell_type": "markdown",
   "metadata": {},
   "source": [
    "## Instantiate 0th-order ODE Model"
   ]
  },
  {
   "cell_type": "code",
   "execution_count": 6,
   "metadata": {},
   "outputs": [
    {
     "data": {
      "text/plain": [
       "ModelOperatingPoint\n"
      ]
     },
     "execution_count": 6,
     "metadata": {},
     "output_type": "execute_result"
    }
   ],
   "source": [
    "parameter_mapping = instantiate_parameters(omib_sys)\n",
    "M= instantiate_0th_order_model(omib_sys)"
   ]
  },
  {
   "cell_type": "code",
   "execution_count": 7,
   "metadata": {},
   "outputs": [
    {
     "data": {
      "text/plain": [
       "50-element Array{Float64,1}:\n",
       "  376.99111843077515\n",
       "    0.2\n",
       "    0.01\n",
       "    0.2\n",
       "    0.0\n",
       "    1.01\n",
       "    1.0\n",
       "    1.0\n",
       "    0.2\n",
       "    0.08\n",
       "    0.074\n",
       "    0.003\n",
       "   37.69911184307752\n",
       "    ⋮\n",
       "    1.084409521544636\n",
       "    0.6\n",
       "    4.0\n",
       "    0.3863\n",
       "   10.34\n",
       "    0.01\n",
       "   -6.0\n",
       "  -12.0\n",
       "  -12.0\n",
       "  -60.0\n",
       " -120.0\n",
       "    0.0003125"
      ]
     },
     "execution_count": 7,
     "metadata": {},
     "output_type": "execute_result"
    }
   ],
   "source": [
    "_parameter_values = [x.second for x in parameter_mapping] # Extract list of parameter values"
   ]
  },
  {
   "cell_type": "code",
   "execution_count": 8,
   "metadata": {},
   "outputs": [
    {
     "data": {
      "text/plain": [
       "0.0008634708284065503"
      ]
     },
     "execution_count": 8,
     "metadata": {},
     "output_type": "execute_result"
    }
   ],
   "source": [
    "fb = 60 # Base frequency. \n",
    "_ωb = 2 * pi * fb # Base angular velocity \n",
    "Sb = 0.2e6 # Base Power\n",
    "# System base for AC side\n",
    "Vb = 480 # Base AC voltage\n",
    "Ib = Sb / Vb # Base AC Current \n",
    "Zb = Vb / Ib # Base Impedancec\n",
    "Lb = Zb / _ωb # Base Inductance\n",
    "Cb = 1 / (Zb * _ωb) # Base AC capcitacne\n",
    "# System base for DC side\n",
    "Vb_dc = (sqrt(8)/sqrt(3))*Vb # Base DC voltage\n",
    "Ib_dc = Sb / Vb_dc # Base DC Current\n",
    "Zb_dc = Vb_dc / Ib_dc # Base DC Impedance\n",
    "Lb_dc = Zb_dc / _ωb # Base DC Inductance\n",
    "Cb_dc = 1 / (Zb_dc * _ωb) # Base DC Capcitance"
   ]
  },
  {
   "cell_type": "markdown",
   "metadata": {},
   "source": [
    "## Build Jacobian Function"
   ]
  },
  {
   "cell_type": "code",
   "execution_count": 9,
   "metadata": {},
   "outputs": [
    {
     "data": {
      "text/plain": [
       "#48 (generic function with 1 method)"
      ]
     },
     "execution_count": 9,
     "metadata": {},
     "output_type": "execute_result"
    }
   ],
   "source": [
    "jac_exp = get_0th_order_jacobian_expression()\n",
    "_jac = eval(jac_exp)"
   ]
  },
  {
   "cell_type": "code",
   "execution_count": 10,
   "metadata": {},
   "outputs": [],
   "source": [
    "jac_eval = (out, u0, params) -> _jac(out, u0, params)\n",
    "param_eval = (out, params) -> _jac(out, M.u0, params)\n",
    "n = length(M.u0)\n",
    "J = zeros(n, n);"
   ]
  },
  {
   "cell_type": "code",
   "execution_count": 11,
   "metadata": {},
   "outputs": [
    {
     "data": {
      "text/plain": [
       "Jacobian\n"
      ]
     },
     "execution_count": 11,
     "metadata": {},
     "output_type": "execute_result"
    }
   ],
   "source": [
    "M(_parameter_values)\n",
    "param_eval(J, _parameter_values)\n",
    "jac = ModelJacobian(jac_eval, J)"
   ]
  },
  {
   "cell_type": "markdown",
   "metadata": {},
   "source": [
    "## Identfying Set of Small-Signal Stable Gains"
   ]
  },
  {
   "cell_type": "code",
   "execution_count": null,
   "metadata": {},
   "outputs": [],
   "source": [
    "cap_range = 2000:500:7000 # Looping throught different DC-link capacitor sizing\n",
    "param_range = 0.5:0.5:10.5 # Looping throughc control  \n",
    "_parameter_values[44]=0 # Setting K_pred=0\n",
    "max_eig = -3 # Design specification - Maximum real part of eigenvalues\n",
    "min_damping = 0.35 # Design specification - Minimum damping\n",
    "for cap_size in cap_range\n",
    "    _parameter_values[38]=cap_size*1e-6/Cb_dc # Assigning DC-link capacitor size\n",
    "    stable_gains = reshape([],0,4) # Initializing array of stable gains\n",
    "    for kpv in param_range\n",
    "        _parameter_values[40]=kpv # K_p^v\n",
    "        for kiv in param_range  \n",
    "            _parameter_values[41]=kiv #K_i^v\n",
    "            for kpi in param_range\n",
    "                _parameter_values[42]=kpi #K_p^i\n",
    "                for kii in param_range\n",
    "                    _parameter_values[43]=kii #K_i^i\n",
    "                    M(_parameter_values) # Re-calculating operating point \n",
    "                    param_eval(J, _parameter_values) \n",
    "                    jac = ModelJacobian(jac_eval, J)\n",
    "                    eig_vals = eigvals(jac(M)) # Calculating eigenvalues of linearized system\n",
    "                    damp = [-1*real(λ) / sqrt(real(λ)^2 + imag(λ)^2) for λ in eig_vals] # Calcualting damping ratios\n",
    "                    if maximum(real(eig_vals)) < max_eig && minimum(damp)>min_damping # Checking to see if gains satisfy design criteria\n",
    "                        stable_gains = [stable_gains; [kpv kiv kpi kii ]] # Concatenating stable gains\n",
    "                    end\n",
    "                end \n",
    "\n",
    "            end\n",
    "\n",
    "        end\n",
    "\n",
    "    end\n",
    "    fileName=string(\"results/stable_gains/capSize_\", cap_size, \"uF.csv\")\n",
    "    writedlm( fileName,  stable_gains, ',') # Writing array of gains that satisfy design criteria \n",
    "end"
   ]
  },
  {
   "cell_type": "markdown",
   "metadata": {},
   "source": [
    "## Searching Over Set of Stable Gains for Large Signal Tuning"
   ]
  },
  {
   "cell_type": "code",
   "execution_count": null,
   "metadata": {},
   "outputs": [],
   "source": [
    "cap_range = 2000:500:7000 # Looping throught different DC-link capacitor sizing\n",
    "_parameter_values[44]=0 #K_pred\n",
    "for cap_size in cap_range\n",
    "    _parameter_values[38]=cap_size*1e-6/Cb_dc # Assigning DC-link capacitor size\n",
    "    fileName=string(\"results/stable_gains/capSize_\", cap_size, \"uF.csv\")\n",
    "    gains = readdlm(fileName, ',', Float64) # Loading array of Stable Gains\n",
    "#     fileName=string(\"results/optimal_gains/capSize_\", cap_size, \"uF.csv\")\n",
    "#     optIndex = readdlm(fileName, ',', Float64)\n",
    "    optIndex = [1, 1e6] # Initializing optIndex (index 1) and associated l_2 norm values (index 2)\n",
    "    for i in 1:1:1000\n",
    "        index = rand(1:size(gains,1))\n",
    "        _parameter_values[40]=gains[index,1] #K_p^v\n",
    "        _parameter_values[41]=gains[index,2] #K_i^v\n",
    "        _parameter_values[42]=gains[index,3] #K_p^i\n",
    "        _parameter_values[43]=gains[index,4] #K_i^i\n",
    "        M(_parameter_values) #Re-calcualte operating point\n",
    "\n",
    "        disturbance=deepcopy(_parameter_values)\n",
    "        disturbance[9]=0.7\n",
    "\n",
    "        sim = instantiate_0th_order_dae(disturbance, M; tspan = (0.0, 0.02))\n",
    "        sol = solve(sim, Rodas5(), saveat = 0.001);\n",
    "        solArray = Array(sol)\n",
    "        global runError=norm(_parameter_values[39].-solArray[13,:]) # Calculate l2 norm error\n",
    "        if runError < optIndex[2] # If l_2 norm error is less that previously stored\n",
    "            optIndex[1]=index  # Store current array index as optimal index\n",
    "            optIndex[2]=runError\n",
    "            fileName=string(\"results/optimal_gains/capSize_\", cap_size, \"uF.csv\")\n",
    "            writedlm(fileName,  optIndex, ',') #Write csv with index and l_2 norm error\n",
    "        end\n",
    "    end\n",
    "end"
   ]
  },
  {
   "cell_type": "code",
   "execution_count": null,
   "metadata": {},
   "outputs": [],
   "source": []
  },
  {
   "cell_type": "code",
   "execution_count": null,
   "metadata": {},
   "outputs": [],
   "source": []
  }
 ],
 "metadata": {
  "kernelspec": {
   "display_name": "Julia 1.4.1",
   "language": "julia",
   "name": "julia-1.4"
  },
  "language_info": {
   "file_extension": ".jl",
   "mimetype": "application/julia",
   "name": "julia",
   "version": "1.4.2"
  }
 },
 "nbformat": 4,
 "nbformat_minor": 4
}
