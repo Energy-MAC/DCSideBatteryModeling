{
 "cells": [
  {
   "cell_type": "code",
   "execution_count": 1,
   "metadata": {},
   "outputs": [
    {
     "name": "stderr",
     "output_type": "stream",
     "text": [
      "\u001b[32m\u001b[1m Activating\u001b[22m\u001b[39m environment at `~/Dropbox/EMAC/DCSideBatteryModeling/Project.toml`\n"
     ]
    }
   ],
   "source": [
    "] activate"
   ]
  },
  {
   "cell_type": "code",
   "execution_count": 2,
   "metadata": {},
   "outputs": [],
   "source": [
    "using LinearAlgebra\n",
    "\n",
    "using OrdinaryDiffEq #Gets the solvers\n",
    "using Plots\n",
    "using PowerSystems\n",
    "using DelimitedFiles\n",
    "\n",
    "include(joinpath(pwd(), \"DCSideBatteryModeling\", \"DCSideBatteryModeling.jl\"))"
   ]
  },
  {
   "cell_type": "code",
   "execution_count": 3,
   "metadata": {},
   "outputs": [
    {
     "data": {
      "text/plain": [
       "Plots.PlotlyBackend()"
      ]
     },
     "execution_count": 3,
     "metadata": {},
     "output_type": "execute_result"
    },
    {
     "name": "stderr",
     "output_type": "stream",
     "text": [
      "[5333:0716/105629.095833:ERROR:buffer_manager.cc(488)] [.DisplayCompositor]GL ERROR :GL_INVALID_OPERATION : glBufferData: <- error from previous GL command\n"
     ]
    }
   ],
   "source": [
    "plotly()"
   ]
  },
  {
   "cell_type": "code",
   "execution_count": 4,
   "metadata": {},
   "outputs": [
    {
     "name": "stderr",
     "output_type": "stream",
     "text": [
      "┌ Info: The PSS(R)E parser currently supports buses, loads, shunts, generators, branches, transformers, and dc lines\n",
      "└ @ PowerSystems /home/ciaran/.julia/packages/PowerSystems/kfHHW/src/parsers/pm_io/common.jl:26\n",
      "┌ Info: Constructing System from Power Models\n",
      "│   data[\"name\"] = omib\n",
      "│   data[\"source_type\"] = pti\n",
      "└ @ PowerSystems /home/ciaran/.julia/packages/PowerSystems/kfHHW/src/parsers/power_models_data.jl:39\n",
      "┌ Info: Created InMemoryTimeSeriesStorage\n",
      "└ @ InfrastructureSystems /home/ciaran/.julia/packages/InfrastructureSystems/WC1sp/src/in_memory_time_series_storage.jl:24\n",
      "┌ Info: Reading bus data\n",
      "└ @ PowerSystems /home/ciaran/.julia/packages/PowerSystems/kfHHW/src/parsers/power_models_data.jl:140\n",
      "┌ Info: Reading generator data\n",
      "└ @ PowerSystems /home/ciaran/.julia/packages/PowerSystems/kfHHW/src/parsers/power_models_data.jl:390\n",
      "┌ Info: Reading branch data\n",
      "└ @ PowerSystems /home/ciaran/.julia/packages/PowerSystems/kfHHW/src/parsers/power_models_data.jl:543\n",
      "┌ Info: Reading branch data\n",
      "└ @ PowerSystems /home/ciaran/.julia/packages/PowerSystems/kfHHW/src/parsers/power_models_data.jl:606\n",
      "┌ Info: Reading DC Line data\n",
      "└ @ PowerSystems /home/ciaran/.julia/packages/PowerSystems/kfHHW/src/parsers/power_models_data.jl:577\n"
     ]
    },
    {
     "ename": "LoadError",
     "evalue": "UndefKeywordError: keyword argument basepower not assigned",
     "output_type": "error",
     "traceback": [
      "UndefKeywordError: keyword argument basepower not assigned",
      "",
      "Stacktrace:",
      " [1] top-level scope at /home/ciaran/Dropbox/EMAC/DCSideBatteryModeling/data/make_data.jl:9",
      " [2] include(::String) at ./client.jl:439",
      " [3] top-level scope at In[4]:1"
     ]
    }
   ],
   "source": [
    "include(joinpath(pwd(), \"data\",\"make_data.jl\"))"
   ]
  },
  {
   "cell_type": "code",
   "execution_count": 5,
   "metadata": {},
   "outputs": [
    {
     "ename": "ErrorException",
     "evalue": "type NamedTuple has no field validation_descriptor_file",
     "output_type": "error",
     "traceback": [
      "type NamedTuple has no field validation_descriptor_file",
      "",
      "Stacktrace:",
      " [1] getproperty(::NamedTuple{(:validation_descriptors, :internal, :components, :time_series_storage_file, :forecast_metadata, :time_series_storage_type),Tuple{Array{Any,1},NamedTuple{(:uuid, :ext),Tuple{NamedTuple{(:value,),Tuple{String}},Nothing}},NamedTuple{(:Area, :Line, :GenericBattery, Symbol(\"DynamicInverter{AverageConverter,OuterControl{VirtualInertia,ReactivePowerDroop},CurrentControl,FixedDCSource,KauraPLL,LCLFilter}\"), :Bus, :LoadZone, :PowerLoad),NTuple{7,Array{Any,1}}},String,NamedTuple{(:resolution, :horizon),Tuple{NamedTuple{(:value, :unit),Tuple{Int64,String}},Int64}},String}}, ::Symbol) at ./Base.jl:33",
      " [2] deserialize(::Type{InfrastructureSystems.SystemData}, ::Type{Component}, ::NamedTuple{(:validation_descriptors, :internal, :components, :time_series_storage_file, :forecast_metadata, :time_series_storage_type),Tuple{Array{Any,1},NamedTuple{(:uuid, :ext),Tuple{NamedTuple{(:value,),Tuple{String}},Nothing}},NamedTuple{(:Area, :Line, :GenericBattery, Symbol(\"DynamicInverter{AverageConverter,OuterControl{VirtualInertia,ReactivePowerDroop},CurrentControl,FixedDCSource,KauraPLL,LCLFilter}\"), :Bus, :LoadZone, :PowerLoad),NTuple{7,Array{Any,1}}},String,NamedTuple{(:resolution, :horizon),Tuple{NamedTuple{(:value, :unit),Tuple{Int64,String}},Int64}},String}}; time_series_read_only::Bool) at /home/ciaran/.julia/packages/InfrastructureSystems/WC1sp/src/system_data.jl:690",
      " [3] (::PowerSystems.var\"#106#107\"{Bool})(::IOStream) at /home/ciaran/.julia/packages/PowerSystems/kfHHW/src/base.jl:1281",
      " [4] open(::PowerSystems.var\"#106#107\"{Bool}, ::String; kwargs::Base.Iterators.Pairs{Union{},Union{},Tuple{},NamedTuple{(),Tuple{}}}) at ./io.jl:298",
      " [5] open at ./io.jl:296 [inlined]",
      " [6] #deserialize#105 at /home/ciaran/.julia/packages/PowerSystems/kfHHW/src/base.jl:1270 [inlined]",
      " [7] System(::String; kwargs::Base.Iterators.Pairs{Union{},Union{},Tuple{},NamedTuple{(),Tuple{}}}) at /home/ciaran/.julia/packages/PowerSystems/kfHHW/src/base.jl:266",
      " [8] System(::String) at /home/ciaran/.julia/packages/PowerSystems/kfHHW/src/base.jl:251",
      " [9] top-level scope at In[5]:1"
     ]
    }
   ],
   "source": [
    "omib_sys = System(joinpath(pwd(), \"data\", \"OMIB_inverterDCside.json\"))"
   ]
  },
  {
   "cell_type": "markdown",
   "metadata": {},
   "source": [
    "## Instantiate 0th-order ODE Model"
   ]
  },
  {
   "cell_type": "code",
   "execution_count": 8,
   "metadata": {},
   "outputs": [
    {
     "data": {
      "text/plain": [
       "ModelOperatingPoint\n"
      ]
     },
     "execution_count": 8,
     "metadata": {},
     "output_type": "execute_result"
    }
   ],
   "source": [
    "parameter_mapping = instantiate_parameters(omib_sys)\n",
    "M= instantiate_0th_order_model(omib_sys)"
   ]
  },
  {
   "cell_type": "code",
   "execution_count": 9,
   "metadata": {},
   "outputs": [
    {
     "data": {
      "text/plain": [
       "50-element Array{Float64,1}:\n",
       "  376.99111843077515\n",
       "    0.2\n",
       "    0.01\n",
       "    0.5\n",
       "    0.0\n",
       "    1.01\n",
       "    1.0\n",
       "    1.0\n",
       "    0.2\n",
       "    0.08\n",
       "    0.074\n",
       "    0.003\n",
       "   37.69911184307752\n",
       "    ⋮\n",
       "    1.084409521544636\n",
       "    0.6\n",
       "    4.0\n",
       "    0.3863\n",
       "   10.34\n",
       "    0.01\n",
       "   -6.0\n",
       "  -12.0\n",
       "  -12.0\n",
       "  -60.0\n",
       " -120.0\n",
       "    0.0003125"
      ]
     },
     "execution_count": 9,
     "metadata": {},
     "output_type": "execute_result"
    }
   ],
   "source": [
    "_parameter_values = [x.second for x in parameter_mapping] # Extract list of parameter values"
   ]
  },
  {
   "cell_type": "code",
   "execution_count": 7,
   "metadata": {},
   "outputs": [
    {
     "data": {
      "text/plain": [
       "0.0008634708284065503"
      ]
     },
     "execution_count": 7,
     "metadata": {},
     "output_type": "execute_result"
    }
   ],
   "source": [
    "fb = 60 # Base frequency. \n",
    "_ωb = 2 * pi * fb # Base angular velocity \n",
    "Sb = 0.2e6 # Base Power\n",
    "# System base for AC side\n",
    "Vb = 480 # Base AC voltage\n",
    "Ib = Sb / Vb # Base AC Current \n",
    "Zb = Vb / Ib # Base Impedancec\n",
    "Lb = Zb / _ωb # Base Inductance\n",
    "Cb = 1 / (Zb * _ωb) # Base AC capcitacne\n",
    "# System base for DC side\n",
    "Vb_dc = (sqrt(8)/sqrt(3))*Vb # Base DC voltage\n",
    "Ib_dc = Sb / Vb_dc # Base DC Current\n",
    "Zb_dc = Vb_dc / Ib_dc # Base DC Impedance\n",
    "Lb_dc = Zb_dc / _ωb # Base DC Inductance\n",
    "Cb_dc = 1 / (Zb_dc * _ωb) # Base DC Capcitance"
   ]
  },
  {
   "cell_type": "markdown",
   "metadata": {},
   "source": [
    "## Build Jacobian Function"
   ]
  },
  {
   "cell_type": "code",
   "execution_count": 10,
   "metadata": {},
   "outputs": [
    {
     "data": {
      "text/plain": [
       "#48 (generic function with 1 method)"
      ]
     },
     "execution_count": 10,
     "metadata": {},
     "output_type": "execute_result"
    }
   ],
   "source": [
    "jac_exp = get_0th_order_jacobian_expression()\n",
    "_jac = eval(jac_exp)"
   ]
  },
  {
   "cell_type": "code",
   "execution_count": 11,
   "metadata": {},
   "outputs": [],
   "source": [
    "jac_eval = (out, u0, params) -> _jac(out, u0, params)\n",
    "param_eval = (out, params) -> _jac(out, M.u0, params)\n",
    "n = length(M.u0)\n",
    "J = zeros(n, n);"
   ]
  },
  {
   "cell_type": "code",
   "execution_count": 12,
   "metadata": {},
   "outputs": [
    {
     "data": {
      "text/plain": [
       "Jacobian\n"
      ]
     },
     "execution_count": 12,
     "metadata": {},
     "output_type": "execute_result"
    }
   ],
   "source": [
    "M(_parameter_values)\n",
    "param_eval(J, _parameter_values)\n",
    "jac = ModelJacobian(jac_eval, J)"
   ]
  },
  {
   "cell_type": "markdown",
   "metadata": {},
   "source": [
    "## Identfying Set of Small-Signal Stable Gains"
   ]
  },
  {
   "cell_type": "code",
   "execution_count": 26,
   "metadata": {},
   "outputs": [
    {
     "name": "stdout",
     "output_type": "stream",
     "text": [
      "0.25\n",
      "0.75\n",
      "1.25\n",
      "1.75\n",
      "2.25\n",
      "2.75\n",
      "3.25\n",
      "3.75\n",
      "4.25\n",
      "4.75\n",
      "5.25\n",
      "5.75\n",
      "6.25\n",
      "6.75\n",
      "7.25\n",
      "7.75\n",
      "8.25\n",
      "8.75\n",
      "9.25\n",
      "9.75\n",
      "10.25\n",
      "0.25\n",
      "0.75\n",
      "1.25\n",
      "1.75\n",
      "2.25\n",
      "2.75\n",
      "3.25\n",
      "3.75\n",
      "4.25\n",
      "4.75\n",
      "5.25\n",
      "5.75\n",
      "6.25\n",
      "6.75\n",
      "7.25\n",
      "7.75\n",
      "8.25\n",
      "8.75\n",
      "9.25\n",
      "9.75\n",
      "10.25\n",
      "0.25\n",
      "0.75\n",
      "1.25\n",
      "1.75\n",
      "2.25\n",
      "2.75\n",
      "3.25\n",
      "3.75\n",
      "4.25\n",
      "4.75\n",
      "5.25\n",
      "5.75\n",
      "6.25\n",
      "6.75\n",
      "7.25\n",
      "7.75\n",
      "8.25\n",
      "8.75\n",
      "9.25\n",
      "9.75\n",
      "10.25\n",
      "0.25\n",
      "0.75\n",
      "1.25\n",
      "1.75\n",
      "2.25\n",
      "2.75\n",
      "3.25\n",
      "3.75\n",
      "4.25\n",
      "4.75\n",
      "5.25\n",
      "5.75\n",
      "6.25\n",
      "6.75\n",
      "7.25\n",
      "7.75\n",
      "8.25\n",
      "8.75\n",
      "9.25\n",
      "9.75\n",
      "10.25\n",
      "0.25\n",
      "0.75\n",
      "1.25\n",
      "1.75\n",
      "2.25\n",
      "2.75\n",
      "3.25\n",
      "3.75\n",
      "4.25\n",
      "4.75\n",
      "5.25\n",
      "5.75\n",
      "6.25\n",
      "6.75\n",
      "7.25\n",
      "7.75\n",
      "8.25\n",
      "8.75\n",
      "9.25\n",
      "9.75\n",
      "10.25\n",
      "0.25\n",
      "0.75\n",
      "1.25\n",
      "1.75\n",
      "2.25\n",
      "2.75\n",
      "3.25\n",
      "3.75\n",
      "4.25\n",
      "4.75\n",
      "5.25\n",
      "5.75\n",
      "6.25\n",
      "6.75\n",
      "7.25\n",
      "7.75\n",
      "8.25\n",
      "8.75\n",
      "9.25\n",
      "9.75\n",
      "10.25\n",
      "0.25\n",
      "0.75\n",
      "1.25\n",
      "1.75\n",
      "2.25\n",
      "2.75\n",
      "3.25\n",
      "3.75\n",
      "4.25\n",
      "4.75\n",
      "5.25\n",
      "5.75\n",
      "6.25\n",
      "6.75\n",
      "7.25\n",
      "7.75\n",
      "8.25\n",
      "8.75\n",
      "9.25\n",
      "9.75\n",
      "10.25\n",
      "0.25\n",
      "0.75\n",
      "1.25\n",
      "1.75\n",
      "2.25\n",
      "2.75\n",
      "3.25\n",
      "3.75\n",
      "4.25\n",
      "4.75\n",
      "5.25\n",
      "5.75\n",
      "6.25\n",
      "6.75\n",
      "7.25\n",
      "7.75\n",
      "8.25\n",
      "8.75\n",
      "9.25\n",
      "9.75\n",
      "10.25\n",
      "0.25\n",
      "0.75\n",
      "1.25\n",
      "1.75\n",
      "2.25\n",
      "2.75\n",
      "3.25\n",
      "3.75\n",
      "4.25\n",
      "4.75\n",
      "5.25\n",
      "5.75\n",
      "6.25\n",
      "6.75\n",
      "7.25\n",
      "7.75\n",
      "8.25\n",
      "8.75\n",
      "9.25\n",
      "9.75\n",
      "10.25\n",
      "0.25\n",
      "0.75\n",
      "1.25\n",
      "1.75\n",
      "2.25\n",
      "2.75\n",
      "3.25\n",
      "3.75\n",
      "4.25\n",
      "4.75\n",
      "5.25\n",
      "5.75\n",
      "6.25\n",
      "6.75\n",
      "7.25\n",
      "7.75\n",
      "8.25\n",
      "8.75\n",
      "9.25\n",
      "9.75\n",
      "10.25\n",
      "0.25\n",
      "0.75\n",
      "1.25\n",
      "1.75\n",
      "2.25\n",
      "2.75\n",
      "3.25\n",
      "3.75\n",
      "4.25\n",
      "4.75\n",
      "5.25\n",
      "5.75\n",
      "6.25\n",
      "6.75\n",
      "7.25\n",
      "7.75\n",
      "8.25\n",
      "8.75\n",
      "9.25\n",
      "9.75\n",
      "10.25\n"
     ]
    }
   ],
   "source": [
    "cap_range = 2000:500:7000 # Looping throught different DC-link capacitor sizing\n",
    "param_range = 0.5:0.5:10.5 # Looping throughc control  \n",
    "_parameter_values[44]=0 # Setting K_pred=0\n",
    "max_eig = -3 # Design specification - Maximum real part of eigenvalues\n",
    "min_damping = 0.35 # Design specification - Minimum damping\n",
    "for cap_size in cap_range\n",
    "    _parameter_values[38]=cap_size*1e-6/Cb_dc # Assigning DC-link capacitor size\n",
    "    stable_gains = reshape([],0,4) # Initializing array of stable gains\n",
    "    for kpv in param_range\n",
    "        _parameter_values[40]=kpv # K_p^v\n",
    "        for kiv in param_range  \n",
    "            _parameter_values[41]=kiv #K_i^v\n",
    "            for kpi in param_range\n",
    "                _parameter_values[42]=kpi #K_p^i\n",
    "                for kii in param_range\n",
    "                    _parameter_values[43]=kii #K_i^i\n",
    "                    M(_parameter_values) # Re-calculating operating point \n",
    "                    param_eval(J, _parameter_values) \n",
    "                    jac = ModelJacobian(jac_eval, J)\n",
    "                    eig_vals = eigvals(jac(M)) # Calculating eigenvalues of linearized system\n",
    "                    damp = [-1*real(λ) / sqrt(real(λ)^2 + imag(λ)^2) for λ in eig_vals] # Calcualting damping ratios\n",
    "                    if maximum(real(eig_vals)) < max_eig && minimum(damp)>min_damping # Checking to see if gains satisfy design criteria\n",
    "                        stable_gains = [stable_gains; [kpv kiv kpi kii ]] # Concatenating stable gains\n",
    "                    end\n",
    "                end \n",
    "\n",
    "            end\n",
    "\n",
    "        end\n",
    "\n",
    "    end\n",
    "    fileName=string(\"results/stable_gains/capSize_\", cap_size, \"uF.csv\")\n",
    "    writedlm( fileName,  stable_gains, ',') # Writing array of gains that satisfy design criteria \n",
    "end"
   ]
  },
  {
   "cell_type": "markdown",
   "metadata": {},
   "source": [
    "## Searching Over Set of Stable Gains for Large Signal Tuning"
   ]
  },
  {
   "cell_type": "code",
   "execution_count": 27,
   "metadata": {},
   "outputs": [
    {
     "name": "stdout",
     "output_type": "stream",
     "text": [
      "2000\n",
      "2500\n",
      "3000\n",
      "3500\n",
      "4000\n",
      "4500\n",
      "5000\n",
      "5500\n",
      "6000\n",
      "6500\n",
      "7000\n"
     ]
    }
   ],
   "source": [
    "cap_range = 2000:500:7000 # Looping throught different DC-link capacitor sizing\n",
    "_parameter_values[44]=0 #K_pred\n",
    "for cap_size in cap_range\n",
    "    _parameter_values[38]=cap_size*1e-6/Cb_dc # Assigning DC-link capacitor size\n",
    "    fileName=string(\"results/stable_gains/capSize_\", cap_size, \"uF.csv\")\n",
    "    gains = readdlm(fileName, ',', Float64) # Loading array of Stable Gains\n",
    "#     fileName=string(\"results/optimal_gains/capSize_\", cap_size, \"uF.csv\")\n",
    "#     optIndex = readdlm(fileName, ',', Float64)\n",
    "    optIndex = [1, 1e6] # Initializing optIndex (index 1) and associated l_2 norm values (index 2)\n",
    "    for i in 1:1:1000\n",
    "        index = rand(1:size(gains,1))\n",
    "        _parameter_values[40]=gains[index,1] #K_p^v\n",
    "        _parameter_values[41]=gains[index,2] #K_i^v\n",
    "        _parameter_values[42]=gains[index,3] #K_p^i\n",
    "        _parameter_values[43]=gains[index,4] #K_i^i\n",
    "        M(_parameter_values) #Re-calcualte operating point\n",
    "\n",
    "        disturbance=deepcopy(_parameter_values)\n",
    "        disturbance[9]=0.7\n",
    "\n",
    "        sim = instantiate_0th_order_dae(disturbance, M; tspan = (0.0, 0.02))\n",
    "        sol = solve(sim, Rodas5(), saveat = 0.001);\n",
    "        solArray = Array(sol)\n",
    "        global runError=norm(_parameter_values[39].-solArray[13,:]) # Calculate l2 norm error\n",
    "        if runError < optIndex[2] # If l_2 norm error is less that previously stored\n",
    "            optIndex[1]=index  # Store current array index as optimal index\n",
    "            optIndex[2]=runError\n",
    "            fileName=string(\"results/optimal_gains/capSize_\", cap_size, \"uF.csv\")\n",
    "            writedlm(fileName,  optIndex, ',') #Write csv with index and l_2 norm error\n",
    "        end\n",
    "    end\n",
    "end"
   ]
  }
 ],
 "metadata": {
  "kernelspec": {
   "display_name": "Julia 1.4.1",
   "language": "julia",
   "name": "julia-1.4"
  },
  "language_info": {
   "file_extension": ".jl",
   "mimetype": "application/julia",
   "name": "julia",
   "version": "1.4.1"
  }
 },
 "nbformat": 4,
 "nbformat_minor": 4
}
